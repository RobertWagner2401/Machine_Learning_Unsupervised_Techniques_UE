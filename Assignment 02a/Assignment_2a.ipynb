{
 "cells": [
  {
   "cell_type": "markdown",
   "metadata": {},
   "source": [
    "<h1 style=\"color:rgb(0,120,170)\">Machine Learning: Unsupervised Techniques</h1>\n",
    "<h1 style=\"color:rgb(0,120,170)\">Assignment 2a: Maximum Likelihood</h1>"
   ]
  },
  {
   "cell_type": "markdown",
   "metadata": {},
   "source": [
    "This material, no matter whether in printed or electronic form, may be used for personal and non-commercial educational use only. Any reproduction of this material, no matter whether as a whole or in parts, no matter whether in printed or in electronic form, requires explicit prior acceptance of the authors."
   ]
  },
  {
   "cell_type": "markdown",
   "metadata": {},
   "source": [
    "<h3 style=\"color:rgb(210,90,80)\">Exercise 1 (25 points):</h3>\n",
    "\n",
    "Compute the Maximum Likelihood Estimator for the parameter $\\lambda > 0$ of a\n",
    "Poisson distribution. This means: Assuming we have data samples ${x_{1},x_{2},...,x_{n}}$, we want to\n",
    "find the $\\lambda$ that maximizes the likelihood\n",
    "\n",
    "$$\n",
    "\\mathcal{L}(\\lambda) = \\prod_{i=1}^{n} \\mathcal{P}(x_{i}; \\lambda) = \\prod_{i=1}^{n} \\frac{\\lambda^{x_{i}}}{x_{i}!} \\mathcal{e}^{-\\lambda}\n",
    "$$\n",
    "\n",
    "\n",
    "**Hint:** You will have a much easier time if you compute with the log-likelihood as compared to the likelihood.\n",
    "\n",
    "You should arrive at this solution: $\\hat{\\lambda} = \\frac 1 n \\sum_{i=1}^{n} x_{i}$."
   ]
  },
  {
   "cell_type": "markdown",
   "metadata": {},
   "source": [
    "########## YOUR SOLUTION HERE ##########\n",
    "\n",
    "$$ln\\mathcal{L}(\\lambda) = ln\\prod_{i=1}^{n} \\frac{\\lambda^{x_{i}}}{x_{i}!} \\mathcal{e}^{-\\lambda} = \\sum_{i=1}^{n} ln \\frac{\\lambda^{x_{i}}}{x_{i}!} \\mathcal{e}^{-\\lambda} = \\sum_{i=1}^{n} ln (\\lambda^{x_{i}}\\mathcal{e}^{-\\lambda}) - ln (x_{i}!) = \\sum_{i=1}^{n} ln \\lambda^{x_{i}} + ln \\mathcal{e}^{-\\lambda} - ln x_{i}! = \\sum_{i=1}^{n} {x_{i}} ln \\lambda - \\lambda ln \\mathcal{e} - ln x_{i}! = $$\n",
    "\n",
    "$$ = \\sum_{i=1}^{n} {x_{i}} ln \\lambda - \\lambda - ln x_{i}! = -n \\lambda + \\sum_{i=1}^{n} {x_{i}} ln \\lambda  - ln x_{i}! = -n \\lambda + \\sum_{i=1}^{n} {x_{i}} ln \\lambda  - \\sum_{i=1}^{n} ln x_{i}! = -n \\lambda + ln \\lambda \\sum_{i=1}^{n} {x_{i}}  - \\sum_{i=1}^{n} ln x_{i}! $$\n",
    "\n",
    "Now we should take the first derivative of the log-likelihood respect to $\\lambda$ and equals to zero\n",
    "\n",
    "$$ \\frac{\\partial}{\\partial \\lambda} \\Big(-n \\lambda + ln \\lambda \\sum_{i=1}^{n} {x_{i}}  - \\sum_{i=1}^{n} ln x_{i}! \\Big)= 0 $$\n",
    "$$ \\frac{\\partial}{\\partial \\lambda} = -n + \\frac{1}{\\lambda} \\sum_{i=1}^{n} {x_{i}} = 0 $$\n",
    "$$ \\frac{1}{\\lambda} \\sum_{i=1}^{n} {x_{i}} = n $$\n",
    "$$ \\hat{\\lambda} = \\frac{1}{n} \\sum_{i=1}^{n} {x_{i}} $$\n",
    "\n",
    "To check if this maximize or minimize the log likelihood we need to check the sign of the second derivative respect to $\\lambda$\n",
    "\n",
    "$$ \\frac{\\partial}{\\partial \\lambda ^2} \\Big(-n + \\frac{1}{\\lambda} \\sum_{i=1}^{n} {x_{i}}\\Big) = - \\frac{1}{\\lambda^2} \\sum_{i=1}^{n} {x_{i}}$$\n",
    "<br>\n",
    "$x_i$ represents in the poisson distribution the number of occurrences of a determinate event. Therefore $x_i$ is a natural number, therefore, $\\forall x_i : \\sum_{i=1}^{n} {x_{i}} \\geq 0$. Hence:\n",
    "$$\\forall \\lambda \\neq 0: - \\frac{1}{\\lambda^2} \\sum_{i=1}^{n} {x_{i}} \\geq 0 $$\n",
    "<br>\n",
    "Hence, $\\frac{1}{n} \\sum_{i=1}^{n} {x_{i}}$ maximizes the log-likelihood"
   ]
  },
  {
   "cell_type": "markdown",
   "metadata": {},
   "source": [
    "In the next exercises, we will plot the log-likelihood from the previous task as a function of $\\lambda$ and mark the\n",
    "position where the maximum occurs. Use the data stored in poisson.csv for this task. As\n",
    "possible values for $\\lambda$ we suggest values from $1$ to $50$ with a step size of $0.5$, i.e. $(1.0, 1.5, 2.0, ...).$ "
   ]
  },
  {
   "cell_type": "code",
   "execution_count": 1,
   "metadata": {},
   "outputs": [
    {
     "data": {
      "text/html": [
       "<div>\n",
       "<style scoped>\n",
       "    .dataframe tbody tr th:only-of-type {\n",
       "        vertical-align: middle;\n",
       "    }\n",
       "\n",
       "    .dataframe tbody tr th {\n",
       "        vertical-align: top;\n",
       "    }\n",
       "\n",
       "    .dataframe thead th {\n",
       "        text-align: right;\n",
       "    }\n",
       "</style>\n",
       "<table border=\"1\" class=\"dataframe\">\n",
       "  <thead>\n",
       "    <tr style=\"text-align: right;\">\n",
       "      <th></th>\n",
       "      <th>0</th>\n",
       "    </tr>\n",
       "  </thead>\n",
       "  <tbody>\n",
       "    <tr>\n",
       "      <th>0</th>\n",
       "      <td>11</td>\n",
       "    </tr>\n",
       "    <tr>\n",
       "      <th>1</th>\n",
       "      <td>10</td>\n",
       "    </tr>\n",
       "    <tr>\n",
       "      <th>2</th>\n",
       "      <td>11</td>\n",
       "    </tr>\n",
       "    <tr>\n",
       "      <th>3</th>\n",
       "      <td>9</td>\n",
       "    </tr>\n",
       "    <tr>\n",
       "      <th>4</th>\n",
       "      <td>12</td>\n",
       "    </tr>\n",
       "  </tbody>\n",
       "</table>\n",
       "</div>"
      ],
      "text/plain": [
       "    0\n",
       "0  11\n",
       "1  10\n",
       "2  11\n",
       "3   9\n",
       "4  12"
      ]
     },
     "execution_count": 1,
     "metadata": {},
     "output_type": "execute_result"
    }
   ],
   "source": [
    "import pandas as pd\n",
    "import matplotlib.pyplot as plt\n",
    "import numpy as np\n",
    "data_df = pd.read_csv('poisson.csv',header=None)\n",
    "\n",
    "# print the head of the dataset, good practice\n",
    "data_df.head()"
   ]
  },
  {
   "cell_type": "code",
   "execution_count": 2,
   "metadata": {},
   "outputs": [
    {
     "name": "stdout",
     "output_type": "stream",
     "text": [
      "<class 'pandas.core.frame.DataFrame'>\n",
      "<class 'numpy.ndarray'>\n"
     ]
    }
   ],
   "source": [
    "X = data_df.values[:,0]\n",
    "\n",
    "print(type(data_df))\n",
    "print(type(X))"
   ]
  },
  {
   "cell_type": "code",
   "execution_count": 3,
   "metadata": {},
   "outputs": [
    {
     "data": {
      "image/png": "[encoded data removed]",
      "text/plain": [
       "<Figure size 576x216 with 1 Axes>"
      ]
     },
     "metadata": {
      "needs_background": "light"
     },
     "output_type": "display_data"
    }
   ],
   "source": [
    "plt.figure(figsize=(8,3))\n",
    "plt.hist(X)\n",
    "plt.xlabel('x')\n",
    "plt.ylabel('p(x)')\n",
    "plt.title('Histogram of poisson.csv');\n",
    "plt.show()"
   ]
  },
  {
   "cell_type": "markdown",
   "metadata": {},
   "source": [
    "**Log Likelihood:**"
   ]
  },
  {
   "cell_type": "code",
   "execution_count": 4,
   "metadata": {},
   "outputs": [],
   "source": [
    "import math\n",
    "\n",
    "def loglikelihood(x, lam):\n",
    "    if lam == 0:\n",
    "        return -1\n",
    "    lnL = 0 \n",
    "    for xi in x:\n",
    "        lnL += xi*np.log(lam)-np.log(math.factorial(xi))-lam\n",
    "    return lnL"
   ]
  },
  {
   "cell_type": "code",
   "execution_count": 5,
   "metadata": {},
   "outputs": [
    {
     "name": "stdout",
     "output_type": "stream",
     "text": [
      "(1000,)\n",
      "lnL(1)  = -17657.38\n",
      "lnL(10) =  -2256.88\n",
      "lnL(20) =  -4911.60\n",
      "lnL(30) = -10614.89\n",
      "lnL(40) = -17566.32\n",
      "lnL(50) = -25201.67\n"
     ]
    }
   ],
   "source": [
    "#test the function\n",
    "lam_set = np.linspace(1,50,99)\n",
    "print(X.shape)\n",
    "\n",
    "print(\"lnL(1)  = %9.2f\"%loglikelihood(X,lam_set[0]))\n",
    "print(\"lnL(10) = %9.2f\"%loglikelihood(X,lam_set[9*2]))\n",
    "print(\"lnL(20) = %9.2f\"%loglikelihood(X,lam_set[19*2]))\n",
    "print(\"lnL(30) = %9.2f\"%loglikelihood(X,lam_set[29*2]))\n",
    "print(\"lnL(40) = %9.2f\"%loglikelihood(X,lam_set[39*2]))\n",
    "print(\"lnL(50) = %9.2f\"%loglikelihood(X,lam_set[49*2]))"
   ]
  },
  {
   "cell_type": "markdown",
   "metadata": {},
   "source": [
    "<h3 style=\"color:rgb(210,90,80)\">Exercise 2 (5 points):</h3>\n",
    "\n",
    "Implement the `estimator_formula` function returning the analytic solution for lambda-hat"
   ]
  },
  {
   "cell_type": "code",
   "execution_count": 6,
   "metadata": {},
   "outputs": [],
   "source": [
    "def estimator_formula(X):\n",
    "    \"\"\" the estimator returns lambda-hat according to the result of the calculation in task 1\"\"\"\n",
    "    \n",
    "    ########## YOUR SOLUTION HERE ##########\n",
    "    lam_max_formula = np.mean(X)\n",
    "    \n",
    "    return lam_max_formula"
   ]
  },
  {
   "cell_type": "code",
   "execution_count": 7,
   "metadata": {},
   "outputs": [
    {
     "name": "stdout",
     "output_type": "stream",
     "text": [
      "Likelihood is maximal at lambda-hat (formula) =    10.597\n",
      "            Log-Likelihood at this lambda-hat = -2239.405\n"
     ]
    }
   ],
   "source": [
    "lam_max_formula = estimator_formula(X)\n",
    "print('Likelihood is maximal at lambda-hat (formula) = %9.3f'%lam_max_formula)\n",
    "print('            Log-Likelihood at this lambda-hat = %9.3f'%loglikelihood(X,lam_max_formula))"
   ]
  },
  {
   "cell_type": "markdown",
   "metadata": {},
   "source": [
    "<h3 style=\"color:rgb(210,90,80)\">Exercise 3 (5 points):</h3>\n",
    "\n",
    "Implement the `estimator_data` function returning an estimate for lambda-hat numerically using argmax over the suggested support points of lambda"
   ]
  },
  {
   "cell_type": "code",
   "execution_count": 14,
   "metadata": {},
   "outputs": [],
   "source": [
    "def estimator_support(X, lam_set):\n",
    "    loglikelih = [loglikelihood(X,lami) for lami in lam_set]\n",
    "\n",
    "    ########## YOUR SOLUTION HERE ##########\n",
    "    ln_min = np.min(loglikelih)\n",
    "    ln_max = np.max(loglikelih)\n",
    "    \n",
    "    for i in lam_set:\n",
    "        if loglikelihood(X, i) == ln_max:\n",
    "            lam_max = i\n",
    "            break\n",
    "    \n",
    "    return loglikelih, ln_min, ln_max, lam_max"
   ]
  },
  {
   "cell_type": "code",
   "execution_count": 15,
   "metadata": {},
   "outputs": [
    {
     "name": "stdout",
     "output_type": "stream",
     "text": [
      "Likelihood is maximal at lambda-hat (argmax) =    10.500\n",
      "           Log-Likelihood at this lambda-hat = -2239.852\n"
     ]
    }
   ],
   "source": [
    "loglikelih, ln_min, ln_max, lam_max = estimator_support(X, lam_set)\n",
    "print('Likelihood is maximal at lambda-hat (argmax) = %9.3f'%lam_max)\n",
    "print('           Log-Likelihood at this lambda-hat = %9.3f'%loglikelihood(X,lam_max))"
   ]
  },
  {
   "cell_type": "markdown",
   "metadata": {},
   "source": [
    "<h3 style=\"color:rgb(210,90,80)\">Exercise 4 (10 points):</h3>\n",
    "\n",
    "* Plot the loglikelihood function over `lam_set`\n",
    "* Mark the maxima in the plot according to `estimator_formula` and `estimator_support`"
   ]
  },
  {
   "cell_type": "code",
   "execution_count": 26,
   "metadata": {},
   "outputs": [
    {
     "name": "stderr",
     "output_type": "stream",
     "text": [
      "No handles with labels found to put in legend.\n"
     ]
    },
    {
     "data": {
      "image/png": "[encoded data removed]",
      "text/plain": [
       "<Figure size 720x720 with 1 Axes>"
      ]
     },
     "metadata": {
      "needs_background": "light"
     },
     "output_type": "display_data"
    }
   ],
   "source": [
    "########## YOUR SOLUTION HERE ##########\n",
    "fig = plt.figure(figsize=(10,10))\n",
    "plt.plot(lam_set, loglikelih)\n",
    "y = np.arange(ln_min,ln_max, 100)\n",
    "plt.plot ( [lam_max_formula for i in range(len(y))], y)\n",
    "plt.plot ( [lam_max for i in range(len(y))], y)\n",
    "plt.title('Log-likelihood vs Lambda')\n",
    "plt.xlabel('Lambda')\n",
    "plt.ylabel('log-Likelihood')\n",
    "plt.grid()\n",
    "plt.legend()\n",
    "plt.show();"
   ]
  },
  {
   "cell_type": "markdown",
   "metadata": {},
   "source": [
    "<h3 style=\"color:rgb(208,90,80)\">Exercise 5 (5 points)</h3>\n",
    "\n",
    "* Explain and discuss the result in your own words. Where is the maximum?"
   ]
  },
  {
   "cell_type": "markdown",
   "metadata": {},
   "source": [
    "########## YOUR SOLUTION HERE ##########"
   ]
  },
  {
   "cell_type": "code",
   "execution_count": null,
   "metadata": {},
   "outputs": [],
   "source": [
    "The maximum is in the mean of the elements of the set."
   ]
  }
 ],
 "metadata": {
  "kernelspec": {
   "display_name": "Python 3 (ipykernel)",
   "language": "python",
   "name": "python3"
  },
  "language_info": {
   "codemirror_mode": {
    "name": "ipython",
    "version": 3
   },
   "file_extension": ".py",
   "mimetype": "text/x-python",
   "name": "python",
   "nbconvert_exporter": "python",
   "pygments_lexer": "ipython3",
   "version": "3.9.7"
  }
 },
 "nbformat": 4,
 "nbformat_minor": 2
}
