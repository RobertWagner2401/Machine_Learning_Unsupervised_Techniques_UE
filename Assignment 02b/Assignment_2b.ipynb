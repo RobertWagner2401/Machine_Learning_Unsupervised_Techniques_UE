{
 "cells": [
  {
   "cell_type": "markdown",
   "metadata": {
    "pycharm": {
     "name": "#%% md\n"
    }
   },
   "source": [
    "<h1 style=\"color:rgb(0,120,170)\">Machine Learning: Unsupervised Techniques</h1>\n",
    "<h1 style=\"color:rgb(0,120,170)\">Assignment 2b: PCA</h1>"
   ]
  },
  {
   "cell_type": "markdown",
   "metadata": {
    "pycharm": {
     "name": "#%% md\n"
    }
   },
   "source": [
    "This material, no matter whether in printed or electronic form, may be used for personal and non-commercial educational use only. Any reproduction of this material, no matter whether as a whole or in parts, no matter whether in printed or in electronic form, requires explicit prior acceptance of the authors."
   ]
  },
  {
   "cell_type": "markdown",
   "metadata": {
    "pycharm": {
     "name": "#%% md\n"
    }
   },
   "source": [
    "<h2 style=\"color:rgb(0,120,170)\">Task 1: Implementation of PCA for a standard data set from scratch: </h2>\n",
    "\n",
    "The goal of this task is to implement the PCA algorithm as introduced in the slides by hand. PCA analysis is a powerful tool to identify patterns in data; it is used to find correlations between variables, to determine the directions of maximum variance and project it onto a smaller dimensional subspace that maintains most of the information. To fix the overall notation, we will denote by $n$ the number of samples, by $d$ the number of different features, and $k<d$ the dimension of the space, on which we want to project. We will work with the famous iris dataset which contains measurements for $n=150$ iris flowers from three different classes, namely:\n",
    "\n",
    "* Iris-setosa ($n_{\\textrm{se}}=50$)\n",
    "* Iris-versicolor ($n_{\\textrm{ve}}=50$)\n",
    "* Iris-virginica ($n_{\\textrm{vi}}=50$).\n",
    "\n",
    "Moreover, we have the following $d=4$ features:\n",
    "\n",
    "* sepal length in cm\n",
    "* sepal width in cm\n",
    "* petal length in cm\n",
    "* petal width in cm\n",
    "\n",
    "<img src = \"../../data/iris_with_labels.jpg\">\n",
    "\n",
    "For more information on the dataset go to https://archive.ics.uci.edu/ml/datasets/Iris.\n",
    "\n",
    "In the next step we want to read in the data set using the pandas package."
   ]
  },
  {
   "cell_type": "code",
   "execution_count": 60,
   "metadata": {
    "pycharm": {
     "name": "#%%\n"
    }
   },
   "outputs": [],
   "source": [
    "# Imports and reading data set. Nothing to do here.\n",
    "import pandas as pd\n",
    "import numpy as np\n",
    "import matplotlib.pyplot as plt\n",
    "import seaborn as sns\n",
    "\n",
    "df = pd.read_csv(\n",
    "    filepath_or_buffer='iris.data', \n",
    "    header=None, \n",
    "    sep=',')\n",
    "\n",
    "df.columns=['sepal_length', 'sepal_width', 'petal_length', 'petal_width', 'class']\n",
    "df.dropna(how=\"all\", inplace=True) # drops the empty line at file-end"
   ]
  },
  {
   "cell_type": "code",
   "execution_count": 61,
   "metadata": {
    "pycharm": {
     "name": "#%%\n"
    }
   },
   "outputs": [],
   "source": [
    "# Split data table into data X and class labels y. Nothing to do here.\n",
    "X = df.iloc[:,0:4].values\n",
    "y = df.iloc[:,4].values"
   ]
  },
  {
   "cell_type": "markdown",
   "metadata": {
    "pycharm": {
     "name": "#%% md\n"
    }
   },
   "source": [
    "Our iris dataset is now an $n \\times d=150 \\times 4$ matrix $\\mathbf{X}$, where the columns are the different features, and every row is an individual flower sample. Each sample row $\\mathbf{x}_i$ for $1\\le i \\le n=150$ is as a $4$-dimensional vector."
   ]
  },
  {
   "cell_type": "markdown",
   "metadata": {
    "pycharm": {
     "name": "#%% md\n"
    }
   },
   "source": [
    "<h3 style=\"color:rgb(210,90,80)\">Exercise 1 (10 points):</h3>\n",
    "\n",
    "* To get a feeling for how the 3 different flower classes are distributed along the 4 different features, visualize them via histograms."
   ]
  },
  {
   "cell_type": "code",
   "execution_count": 62,
   "metadata": {
    "pycharm": {
     "name": "#%%\n"
    }
   },
   "outputs": [],
   "source": [
    "########## YOUR SOLUTION HERE ##########    "
   ]
  },
  {
   "cell_type": "markdown",
   "metadata": {
    "pycharm": {
     "name": "#%% md\n"
    }
   },
   "source": [
    "As PCA leads to a (sub)space that maximizes the variance along the axes, it makes sense to standardize the data, especially, if they were measured on different scales. We thus transform the data onto unit scale (mean=0 and variance=1), which is needed in many machine learning algorithms."
   ]
  },
  {
   "cell_type": "code",
   "execution_count": 63,
   "metadata": {
    "pycharm": {
     "name": "#%%\n"
    }
   },
   "outputs": [],
   "source": [
    "#nothing to do here\n",
    "from sklearn.preprocessing import StandardScaler\n",
    "X_std = StandardScaler().fit_transform(X)"
   ]
  },
  {
   "cell_type": "markdown",
   "metadata": {
    "pycharm": {
     "name": "#%% md\n"
    }
   },
   "source": [
    "Next, we compute the covariance matrix $\\mathbf{C}$, which is a $d×d$ matrix (real and symmetric), where each element represents the covariance between two features. $\\mathbf{C}$ can therefore be calculated as follows:\n",
    "$$\n",
    "c_{jk}=\\frac{1}{n-1} \\sum_{i=1}^{n} (x_i^{(j)}-\\overline{x}^{(j)})(x_i^{(k)}-\\overline{x}^{(k)}),\n",
    "$$\n",
    "where $\\overline{x}^{(j)}$ denotes the mean of the $j$-th feature. In matrix notation, this can be expressed as follows:\n",
    "$$\n",
    "\\mathbf{C}=\\frac{1}{n-1}(\\mathbf{X}-\\overline{\\mathbf{x}})^T (\\mathbf{X}-\\overline{\\mathbf{x}}),\n",
    "$$\n",
    "with $\\overline{\\mathbf{x}}= \\frac1n \\sum_{i=1}^{n} \\mathbf{x}_i$ denoting the mean vector. The eigenvectors and eigenvalues of $\\mathbf{C}$ represent the most important part of PCA: The eigenvectors (principal components, German: \"Hauptachsen\") determine the directions of the new feature space, and the eigenvalues contain information about their importance. Put differently, the eigenvalues explain the variance of the data along the new feature axes. Computing $\\mathbf{C}$ and its eigendecomposition should therefore be achieved in the following tasks: "
   ]
  },
  {
   "cell_type": "markdown",
   "metadata": {
    "pycharm": {
     "name": "#%% md\n"
    }
   },
   "source": [
    "<h3 style=\"color:rgb(210,90,80)\">Exercise 2 (5 points):</h3>\n",
    "\n",
    "\n",
    "* Using the previous formulas and explanations, implement the covariance matrix for the iris data set and print the result. Don't use the np.cov function. Verify first that all the feature means are zero due to the standardization we did above."
   ]
  },
  {
   "cell_type": "code",
   "execution_count": 64,
   "metadata": {
    "pycharm": {
     "name": "#%%\n"
    }
   },
   "outputs": [
    {
     "name": "stdout",
     "output_type": "stream",
     "text": [
      "Mean of feature 0\n",
      "-4.736951571734001e-16\n",
      "Standard Deviation of feature 0\n",
      "1.0\n",
      "\n",
      "Mean of feature 1\n",
      "-6.631732200427602e-16\n",
      "Standard Deviation of feature 1\n",
      "0.9999999999999999\n",
      "\n",
      "Mean of feature 2\n",
      "3.315866100213801e-16\n",
      "Standard Deviation of feature 2\n",
      "0.9999999999999998\n",
      "\n",
      "Mean of feature 3\n",
      "-2.842170943040401e-16\n",
      "Standard Deviation of feature 3\n",
      "1.0\n",
      "\n",
      "Covariance Matrix using my own implementation\n",
      "[[ 1.0067 -0.1101  0.8776  0.8234]\n",
      " [-0.1101  1.0067 -0.4233 -0.3589]\n",
      " [ 0.8776 -0.4233  1.0067  0.9692]\n",
      " [ 0.8234 -0.3589  0.9692  1.0067]]\n",
      "Covariance Matrix using numpy cov\n",
      "[[ 1.00671141 -0.11010327  0.87760486  0.82344326]\n",
      " [-0.11010327  1.00671141 -0.42333835 -0.358937  ]\n",
      " [ 0.87760486 -0.42333835  1.00671141  0.96921855]\n",
      " [ 0.82344326 -0.358937    0.96921855  1.00671141]]\n"
     ]
    }
   ],
   "source": [
    "########## YOUR SOLUTION HERE ##########\n",
    "\n",
    "# Check if Mean of every feature is 0 and std dev is 1\n",
    "for i in range(4):\n",
    "    print(f'Mean of feature {i}')\n",
    "    print(np.mean(X_std[:,i:i + 1]))\n",
    "\n",
    "    print(f'Standard Deviation of feature {i}')\n",
    "    print(np.std(X_std[:,i: i + 1]))\n",
    "    print('')\n",
    "\n",
    "cov_matrix = []\n",
    "for j in range(X_std.shape[1]):\n",
    "    row = []\n",
    "    for k in range(X_std.shape[1]):\n",
    "        c = 0\n",
    "        for i in range(X_std.shape[0]):\n",
    "            c += X_std[i][j] * X_std[i][k]\n",
    "        row.append(round(((1/(X_std.shape[0] - 1)) * c), 4))\n",
    "\n",
    "    cov_matrix.append(row)\n",
    "\n",
    "cov_matrix = np.array(cov_matrix)\n",
    "\n",
    "print('Covariance Matrix using my own implementation')\n",
    "print(cov_matrix)\n",
    "\n",
    "# This is only to check if the calculations were correct\n",
    "covmat = np.cov(X_std.T)\n",
    "print('Covariance Matrix using numpy cov')\n",
    "print(covmat)"
   ]
  },
  {
   "cell_type": "markdown",
   "metadata": {
    "pycharm": {
     "name": "#%% md\n"
    }
   },
   "source": [
    "<h3 style=\"color:rgb(210,90,80)\">Exercise 3 (5 points):</h3>\n",
    "\n",
    "* Next, perform an eigendecomposition on the covariance matrix  and print the eigenvectors and eigenvalues. You can use whatever method you like."
   ]
  },
  {
   "cell_type": "code",
   "execution_count": 65,
   "metadata": {
    "pycharm": {
     "name": "#%%\n"
    }
   },
   "outputs": [
    {
     "name": "stdout",
     "output_type": "stream",
     "text": [
      "Eigenvalues\n",
      "[2.93027799 0.92739821 0.14838085 0.02074295]\n",
      "Eigenvectors\n",
      "vector 1\n",
      "[ 0.52237511 -0.26334129  0.58125901  0.56560903]\n",
      "vector 2\n",
      "[-0.37229055 -0.92556774 -0.021105   -0.06541165]\n",
      "vector 3\n",
      "[-0.72100775  0.24200478  0.14083905  0.63383426]\n",
      "vector 4\n",
      "[ 0.26205309 -0.12413464 -0.80115973  0.52350919]\n"
     ]
    }
   ],
   "source": [
    "########## YOUR SOLUTION HERE ##########\n",
    "\n",
    "eigenvalues, eigenvectors = np.linalg.eig(cov_matrix)\n",
    "\n",
    "print('Eigenvalues')\n",
    "print(eigenvalues)\n",
    "print('Eigenvectors')\n",
    "for i, vector in enumerate(eigenvectors.T):\n",
    "    print('vector ' + str(i +1))\n",
    "    print(vector)"
   ]
  },
  {
   "cell_type": "markdown",
   "metadata": {
    "pycharm": {
     "name": "#%% md\n"
    }
   },
   "source": [
    "To decide which eigenvector(s) can safely be dropped, we take a more careful look at the corresponding eigenvalues: In order to do so, we rank the eigenvalues from highest to lowest and choose the top $k$ eigenvectors. The eigenvectors with the lowest eigenvalues contain the least information about the distribution of the data; these are the ones we will get rid of."
   ]
  },
  {
   "cell_type": "markdown",
   "metadata": {
    "pycharm": {
     "name": "#%% md\n"
    }
   },
   "source": [
    "<h3 style=\"color:rgb(210,90,80)\">Exercise 4 (10 points):</h3>\n",
    "\n",
    "* Make a list of (eigenvalue, eigenvector) tuples, sort the (eigenvalue, eigenvector) tuples from high to low (with respect to the eigenvalues) and print the tuples in decreasing order to confirm, that the list is correctly sorted. Also check that the eigenvectors are all normalized and all orthogonal to each other."
   ]
  },
  {
   "cell_type": "code",
   "execution_count": 66,
   "metadata": {
    "pycharm": {
     "name": "#%%\n"
    }
   },
   "outputs": [
    {
     "name": "stdout",
     "output_type": "stream",
     "text": [
      "Eigenvalue 1\n",
      "2.9302779921575017\n",
      "Eigenvector 1\n",
      "[ 0.52237511 -0.26334129  0.58125901  0.56560903]\n",
      "Normalized\n",
      "\n",
      "\n",
      "Eigenvalue 2\n",
      "0.9273982112161473\n",
      "Eigenvector 2\n",
      "[-0.37229055 -0.92556774 -0.021105   -0.06541165]\n",
      "Normalized\n",
      "\n",
      "\n",
      "Eigenvalue 3\n",
      "0.14838085011362806\n",
      "Eigenvector 3\n",
      "[-0.72100775  0.24200478  0.14083905  0.63383426]\n",
      "Normalized\n",
      "\n",
      "\n",
      "Eigenvalue 4\n",
      "0.0207429465127192\n",
      "Eigenvector 4\n",
      "[ 0.26205309 -0.12413464 -0.80115973  0.52350919]\n",
      "Normalized\n",
      "\n",
      "\n"
     ]
    }
   ],
   "source": [
    "########## YOUR SOLUTION HERE ##########\n",
    "\n",
    "list_eigvalues_vectors = []\n",
    "\n",
    "for i in range(eigenvalues.shape[0]):\n",
    "    temp_ = (eigenvalues[i], eigenvectors.T[i])\n",
    "    list_eigvalues_vectors.append(temp_)\n",
    "\n",
    "# Because sorted takes automatic the first element to sort, we don't have to change the key to sort the list\n",
    "list_eigvalues_vectors = sorted(list_eigvalues_vectors, reverse=True)\n",
    "\n",
    "for i, tup_ in enumerate(list_eigvalues_vectors):\n",
    "    print(f'Eigenvalue {i +1}')\n",
    "    print(tup_[0])\n",
    "    print(f'Eigenvector {i +1}')\n",
    "    print(tup_[1])\n",
    "    n = 0\n",
    "    for j in tup_[1]:\n",
    "        n += j ** 2\n",
    "    n = n ** (1/len(tup_[1]))\n",
    "    # If n == 1, the length of the vector is 1, therefore is the vector normalized\n",
    "    if n == 1:\n",
    "        print('Normalized')\n",
    "    else:\n",
    "        print('Not Normalized')\n",
    "    print('\\n')\n"
   ]
  },
  {
   "cell_type": "markdown",
   "metadata": {
    "pycharm": {
     "name": "#%% md\n"
    }
   },
   "source": [
    "After sorting the eigenpairs, we ask ourselves, how many principal components we want to have. A useful measure is the so-called \"explained variance\", which can be calculated from the eigenvalues by computing the ratios $\\frac{\\lambda_j}{\\sum_{k=1}^d \\lambda_k}$, where $\\lambda_j$ denotes the $j$-th (sorted) eigenvalue of $\\mathbf{C}$ and $1\\le j \\le d$. The explained variance tells us how much information is contained in each of the principal components. "
   ]
  },
  {
   "cell_type": "markdown",
   "metadata": {
    "pycharm": {
     "name": "#%% md\n"
    }
   },
   "source": [
    "<h3 style=\"color:rgb(210,90,80)\">Exercise 5 (10 points):</h3>\n",
    "\n",
    "* Write a code that computes the explained variance for each eigenvalue of the iris-dataset example and print the result."
   ]
  },
  {
   "cell_type": "code",
   "execution_count": 67,
   "metadata": {
    "pycharm": {
     "name": "#%%\n"
    }
   },
   "outputs": [
    {
     "name": "stdout",
     "output_type": "stream",
     "text": [
      "[0.7276939485838643, 0.23030649925900173, 0.03684832872594323, 0.005151223431190826]\n"
     ]
    }
   ],
   "source": [
    "########## YOUR SOLUTION HERE ##########\n",
    "\n",
    "explained_variance = []\n",
    "\n",
    "for i in eigenvalues:\n",
    "    explained_variance.append(i/sum(eigenvalues))\n",
    "\n",
    "print(explained_variance)"
   ]
  },
  {
   "cell_type": "markdown",
   "metadata": {
    "pycharm": {
     "name": "#%% md\n"
    }
   },
   "source": [
    "The previous task clearly shows that most of the variance can be explained by the first principal component alone. The second principal component still contains some information, while the third and fourth principal components can safely be neglected. "
   ]
  },
  {
   "cell_type": "markdown",
   "metadata": {
    "pycharm": {
     "name": "#%% md\n"
    }
   },
   "source": [
    "Next, we come to the construction of the $d \\times k$ transformation (and projection) matrix $\\mathbf{W}$ that will be used to transform the Iris data onto the new (and smaller) feature subspace. It basically just consists of the first $k$ eigenvectors. In our Iris dataset example, we choose to reduce the $4$-dimensional feature space to a $k=2$ dimensional one.\n",
    "\n",
    "In the final, step we will use $\\mathbf{W}$ to transform our samples onto the new subspace via the equation\n",
    "$\\mathbf{Y}=\\mathbf{X}\\,\\mathbf{W}$, where $\\mathbf{Y}$ is now an $n \\times k$ matrix (i.e. $150 \\times 2$ in our case)."
   ]
  },
  {
   "cell_type": "markdown",
   "metadata": {
    "pycharm": {
     "name": "#%% md\n"
    }
   },
   "source": [
    "<h3 style=\"color:rgb(210,90,80)\">Exercise 6 (10 points):</h3>\n",
    "\n",
    "* Write a code that computes the transformation matrix $\\mathbf{W}$ and the new representation matrix $\\mathbf{Y}$ for the Iris data set and print the results."
   ]
  },
  {
   "cell_type": "code",
   "execution_count": 90,
   "metadata": {
    "scrolled": false,
    "pycharm": {
     "name": "#%%\n"
    }
   },
   "outputs": [],
   "source": [
    "########## YOUR SOLUTION HERE ##########\n",
    "def trans_matrix(eigenvectors, k):\n",
    "    matrix = []\n",
    "    for i in range(k):\n",
    "        matrix.append(eigenvectors[i])\n",
    "\n",
    "    return np.array(matrix).T\n",
    "\n",
    "k = 2\n",
    "\n",
    "Y = X @ trans_matrix(eigenvectors, k)"
   ]
  },
  {
   "cell_type": "markdown",
   "metadata": {
    "pycharm": {
     "name": "#%% md\n"
    }
   },
   "source": [
    "All the steps that we did so far can be also done with the following implemented algorithm from the sklearn package. The previously computed matrix $\\mathbf{Y}$ should match $\\mathbf{Y}_\\textrm{sklearn}$ from the following code. Note that signs (of individual components) might differ. This is because the directions of the eigenvectors are not fixed and different methods may make different choices."
   ]
  },
  {
   "cell_type": "code",
   "execution_count": 94,
   "metadata": {
    "pycharm": {
     "name": "#%%\n"
    }
   },
   "outputs": [
    {
     "name": "stdout",
     "output_type": "stream",
     "text": [
      "[[-2.26454173e+00  5.05703903e-01]\n",
      " [-2.08642550e+00 -6.55404729e-01]\n",
      " [-2.36795045e+00 -3.18477311e-01]\n",
      " [-2.30419716e+00 -5.75367713e-01]\n",
      " [-2.38877749e+00  6.74767397e-01]\n",
      " [-2.07053681e+00  1.51854856e+00]\n",
      " [-2.44571134e+00  7.45626750e-02]\n",
      " [-2.23384186e+00  2.47613932e-01]\n",
      " [-2.34195768e+00 -1.09514636e+00]\n",
      " [-2.18867576e+00 -4.48629048e-01]\n",
      " [-2.16348656e+00  1.07059558e+00]\n",
      " [-2.32737775e+00  1.58587455e-01]\n",
      " [-2.22408272e+00 -7.09118158e-01]\n",
      " [-2.63971626e+00 -9.38281982e-01]\n",
      " [-2.19229151e+00  1.88997851e+00]\n",
      " [-2.25146521e+00  2.72237108e+00]\n",
      " [-2.20275048e+00  1.51375028e+00]\n",
      " [-2.19017916e+00  5.14304308e-01]\n",
      " [-1.89407429e+00  1.43111071e+00]\n",
      " [-2.33994907e+00  1.15803343e+00]\n",
      " [-1.91455639e+00  4.30465163e-01]\n",
      " [-2.20464540e+00  9.52457317e-01]\n",
      " [-2.77416979e+00  4.89517027e-01]\n",
      " [-1.82041156e+00  1.06750793e-01]\n",
      " [-2.22821750e+00  1.62186163e-01]\n",
      " [-1.95702401e+00 -6.07892567e-01]\n",
      " [-2.05206331e+00  2.66014312e-01]\n",
      " [-2.16819365e+00  5.52016495e-01]\n",
      " [-2.14030596e+00  3.36640409e-01]\n",
      " [-2.26879019e+00 -3.14878603e-01]\n",
      " [-2.14455443e+00 -4.83942097e-01]\n",
      " [-1.83193810e+00  4.45266836e-01]\n",
      " [-2.60820287e+00  1.82847519e+00]\n",
      " [-2.43795086e+00  2.18539162e+00]\n",
      " [-2.18867576e+00 -4.48629048e-01]\n",
      " [-2.21111990e+00 -1.84337811e-01]\n",
      " [-2.04441652e+00  6.84956426e-01]\n",
      " [-2.18867576e+00 -4.48629048e-01]\n",
      " [-2.43595220e+00 -8.82169415e-01]\n",
      " [-2.17054720e+00  2.92726955e-01]\n",
      " [-2.28652724e+00  4.67991716e-01]\n",
      " [-1.87170722e+00 -2.32769161e+00]\n",
      " [-2.55783442e+00 -4.53816380e-01]\n",
      " [-1.96427929e+00  4.97391640e-01]\n",
      " [-2.13337283e+00  1.17143211e+00]\n",
      " [-2.07535759e+00 -6.91917347e-01]\n",
      " [-2.38125822e+00  1.15063259e+00]\n",
      " [-2.39819169e+00 -3.62390765e-01]\n",
      " [-2.22678121e+00  1.02548255e+00]\n",
      " [-2.20595417e+00  3.22378453e-02]\n",
      " [ 1.10399365e+00  8.63112446e-01]\n",
      " [ 7.32481440e-01  5.98635573e-01]\n",
      " [ 1.24210951e+00  6.14822450e-01]\n",
      " [ 3.97307283e-01 -1.75816895e+00]\n",
      " [ 1.07259395e+00 -2.11757903e-01]\n",
      " [ 3.84458146e-01 -5.91062469e-01]\n",
      " [ 7.48715076e-01  7.78698611e-01]\n",
      " [-4.97863388e-01 -1.84886877e+00]\n",
      " [ 9.26222368e-01  3.03308268e-02]\n",
      " [ 4.96802558e-03 -1.02940111e+00]\n",
      " [-1.24697461e-01 -2.65806268e+00]\n",
      " [ 4.38730118e-01 -5.88812850e-02]\n",
      " [ 5.51633981e-01 -1.77258156e+00]\n",
      " [ 7.17165066e-01 -1.85434315e-01]\n",
      " [-3.72583830e-02 -4.32795099e-01]\n",
      " [ 8.75890536e-01  5.09998151e-01]\n",
      " [ 3.48006402e-01 -1.90621647e-01]\n",
      " [ 1.53392545e-01 -7.90725456e-01]\n",
      " [ 1.21530321e+00 -1.63335564e+00]\n",
      " [ 1.56941176e-01 -1.30310327e+00]\n",
      " [ 7.38256104e-01  4.02470382e-01]\n",
      " [ 4.72369682e-01 -4.16608222e-01]\n",
      " [ 1.22798821e+00 -9.40914793e-01]\n",
      " [ 6.29381045e-01 -4.16811643e-01]\n",
      " [ 7.00472799e-01 -6.34939277e-02]\n",
      " [ 8.73536987e-01  2.50708611e-01]\n",
      " [ 1.25422219e+00 -8.26200998e-02]\n",
      " [ 1.35823985e+00  3.28820266e-01]\n",
      " [ 6.62126138e-01 -2.24346071e-01]\n",
      " [-4.72815133e-02 -1.05721241e+00]\n",
      " [ 1.21534209e-01 -1.56359238e+00]\n",
      " [ 1.41182261e-02 -1.57339235e+00]\n",
      " [ 2.36010837e-01 -7.75923784e-01]\n",
      " [ 1.05669143e+00 -6.36901284e-01]\n",
      " [ 2.21417088e-01 -2.80847693e-01]\n",
      " [ 4.31783161e-01  8.55136920e-01]\n",
      " [ 1.04941336e+00  5.22197265e-01]\n",
      " [ 1.03587821e+00 -1.39246648e+00]\n",
      " [ 6.70675999e-02 -2.12620735e-01]\n",
      " [ 2.75425066e-01 -1.32981591e+00]\n",
      " [ 2.72335066e-01 -1.11944152e+00]\n",
      " [ 6.23170540e-01  2.75426333e-02]\n",
      " [ 3.30005364e-01 -9.88900732e-01]\n",
      " [-3.73627623e-01 -2.01793227e+00]\n",
      " [ 2.82944343e-01 -8.53950717e-01]\n",
      " [ 8.90531103e-02 -1.74908548e-01]\n",
      " [ 2.24356783e-01 -3.80484659e-01]\n",
      " [ 5.73883486e-01 -1.53719974e-01]\n",
      " [-4.57012873e-01 -1.53946451e+00]\n",
      " [ 2.52244473e-01 -5.95860746e-01]\n",
      " [ 1.84767259e+00  8.71696662e-01]\n",
      " [ 1.15318981e+00 -7.01326114e-01]\n",
      " [ 2.20634950e+00  5.54470105e-01]\n",
      " [ 1.43868540e+00 -5.00105223e-02]\n",
      " [ 1.86789070e+00  2.91192802e-01]\n",
      " [ 2.75419671e+00  7.88432206e-01]\n",
      " [ 3.58374475e-01 -1.56009458e+00]\n",
      " [ 2.30300590e+00  4.09516695e-01]\n",
      " [ 2.00173530e+00 -7.23865359e-01]\n",
      " [ 2.26755460e+00  1.92144299e+00]\n",
      " [ 1.36590943e+00  6.93948040e-01]\n",
      " [ 1.59906459e+00 -4.28248836e-01]\n",
      " [ 1.88425185e+00  4.14332758e-01]\n",
      " [ 1.25308651e+00 -1.16739134e+00]\n",
      " [ 1.46406152e+00 -4.44147569e-01]\n",
      " [ 1.59180930e+00  6.77035372e-01]\n",
      " [ 1.47128019e+00  2.53192472e-01]\n",
      " [ 2.43737848e+00  2.55675734e+00]\n",
      " [ 3.30914118e+00 -2.36132010e-03]\n",
      " [ 1.25398099e+00 -1.71758384e+00]\n",
      " [ 2.04049626e+00  9.07398765e-01]\n",
      " [ 9.73915114e-01 -5.71174376e-01]\n",
      " [ 2.89806444e+00  3.97791359e-01]\n",
      " [ 1.32919369e+00 -4.86760542e-01]\n",
      " [ 1.70424071e+00  1.01414842e+00]\n",
      " [ 1.95772766e+00  1.00333452e+00]\n",
      " [ 1.17190451e+00 -3.18896617e-01]\n",
      " [ 1.01978105e+00  6.55429631e-02]\n",
      " [ 1.78600886e+00 -1.93272800e-01]\n",
      " [ 1.86477791e+00  5.55381532e-01]\n",
      " [ 2.43549739e+00  2.46654468e-01]\n",
      " [ 2.31608241e+00  2.62618387e+00]\n",
      " [ 1.86037143e+00 -1.84672394e-01]\n",
      " [ 1.11127173e+00 -2.95986102e-01]\n",
      " [ 1.19746916e+00 -8.17167742e-01]\n",
      " [ 2.80094940e+00  8.44748194e-01]\n",
      " [ 1.58015525e+00  1.07247450e+00]\n",
      " [ 1.34704442e+00  4.22255966e-01]\n",
      " [ 9.23432978e-01  1.92303705e-02]\n",
      " [ 1.85355198e+00  6.72422729e-01]\n",
      " [ 2.01615720e+00  6.10397038e-01]\n",
      " [ 1.90311686e+00  6.86024832e-01]\n",
      " [ 1.15318981e+00 -7.01326114e-01]\n",
      " [ 2.04330844e+00  8.64684880e-01]\n",
      " [ 2.00169097e+00  1.04855005e+00]\n",
      " [ 1.87052207e+00  3.82821838e-01]\n",
      " [ 1.55849189e+00 -9.05313601e-01]\n",
      " [ 1.52084506e+00  2.66794575e-01]\n",
      " [ 1.37639119e+00  1.01636193e+00]\n",
      " [ 9.59298576e-01 -2.22839447e-02]]\n",
      "[[ 0.40409589 -4.26854793]\n",
      " [ 0.48576614 -3.7530958 ]\n",
      " [ 0.37893379 -3.90974157]\n",
      " [ 0.21972378 -3.74244971]\n",
      " [ 0.31462932 -4.33477058]\n",
      " [ 0.24800049 -4.67000291]\n",
      " [ 0.2063427  -4.05673397]\n",
      " [ 0.31698666 -4.12545655]\n",
      " [ 0.26180764 -3.52886838]\n",
      " [ 0.350231   -3.80903864]\n",
      " [ 0.41424954 -4.50846339]\n",
      " [ 0.14041086 -4.04858781]\n",
      " [ 0.40732332 -3.71434821]\n",
      " [ 0.3624381  -3.655279  ]\n",
      " [ 0.72781474 -4.96407166]\n",
      " [ 0.3627693  -5.26019013]\n",
      " [ 0.53640359 -4.76680482]\n",
      " [ 0.4303012  -4.2809614 ]\n",
      " [ 0.41573677 -4.64403506]\n",
      " [ 0.24651326 -4.53443124]\n",
      " [ 0.38173515 -4.18239211]\n",
      " [ 0.30994762 -4.45428793]\n",
      " [ 0.39408238 -4.32623597]\n",
      " [ 0.3408676  -4.04807334]\n",
      " [-0.07589146 -3.97598638]\n",
      " [ 0.3938021  -3.73102898]\n",
      " [ 0.2972965  -4.126083  ]\n",
      " [ 0.38423263 -4.27068158]\n",
      " [ 0.49356246 -4.20232529]\n",
      " [ 0.16263146 -3.83714014]\n",
      " [ 0.25209803 -3.77091749]\n",
      " [ 0.57834732 -4.25562   ]\n",
      " [ 0.13465299 -4.81360876]\n",
      " [ 0.35244255 -5.02178187]\n",
      " [ 0.350231   -3.80903864]\n",
      " [ 0.60774709 -4.01294444]\n",
      " [ 0.68514671 -4.39808493]\n",
      " [ 0.350231   -3.80903864]\n",
      " [ 0.29667936 -3.64562563]\n",
      " [ 0.36922417 -4.15179068]\n",
      " [ 0.45016446 -4.27882774]\n",
      " [ 0.63572557 -3.03647581]\n",
      " [ 0.22222126 -3.83073918]\n",
      " [ 0.31247806 -4.2434667 ]\n",
      " [-0.01568453 -4.45004279]\n",
      " [ 0.45973394 -3.73917514]\n",
      " [ 0.14820718 -4.4978173 ]\n",
      " [ 0.2545955  -3.85920696]\n",
      " [ 0.36201203 -4.48212926]\n",
      " [ 0.42631649 -4.05710026]\n",
      " [-0.55656612 -3.84157187]\n",
      " [-0.69958432 -3.74438151]\n",
      " [-0.68957082 -3.68669347]\n",
      " [-0.52656717 -2.77053884]\n",
      " [-0.57053137 -3.37628807]\n",
      " [-0.9687413  -3.16498858]\n",
      " [-0.90704713 -3.77461666]\n",
      " [-0.45113179 -2.83725379]\n",
      " [-0.60793353 -3.47035204]\n",
      " [-0.73388983 -3.09837749]\n",
      " [-0.39417961 -2.44495987]\n",
      " [-0.67001144 -3.50019875]\n",
      " [-0.30676648 -2.77241232]\n",
      " [-0.91501655 -3.32689438]\n",
      " [-0.40930089 -3.44901552]\n",
      " [-0.45974727 -3.74261414]\n",
      " [-1.0430263  -3.34859493]\n",
      " [-0.66948756 -3.15832746]\n",
      " [-0.4317688  -2.76614551]\n",
      " [-0.52909761 -2.98136007]\n",
      " [-1.09845828 -3.57734982]\n",
      " [-0.39928738 -3.39132749]\n",
      " [-0.77962155 -2.97334805]\n",
      " [-0.93019811 -3.20951068]\n",
      " [-0.49610623 -3.49028522]\n",
      " [-0.47475573 -3.62372323]\n",
      " [-0.58422569 -3.39447603]\n",
      " [-0.77650694 -3.54209489]\n",
      " [-0.7968472  -3.36137467]\n",
      " [-0.25189136 -3.18463942]\n",
      " [-0.47200529 -2.88666964]\n",
      " [-0.42610982 -2.89845666]\n",
      " [-0.47287539 -3.23155534]\n",
      " [-1.12878843 -3.04347172]\n",
      " [-1.14750132 -3.29592667]\n",
      " [-0.95678717 -3.836572  ]\n",
      " [-0.64984429 -3.68242617]\n",
      " [-0.39707018 -2.88440996]\n",
      " [-0.80703382 -3.42056991]\n",
      " [-0.60102528 -2.95565239]\n",
      " [-0.95286274 -2.93899379]\n",
      " [-0.88014483 -3.44365163]\n",
      " [-0.50774711 -3.11479809]\n",
      " [-0.36166522 -2.77103115]\n",
      " [-0.76744743 -3.11869911]\n",
      " [-0.85310239 -3.4102901 ]\n",
      " [-0.78966802 -3.33014679]\n",
      " [-0.60058125 -3.43761696]\n",
      " [-0.14137819 -3.06749372]\n",
      " [-0.6803382  -3.26179049]\n",
      " [-1.60850943 -3.57173162]\n",
      " [-1.15464753 -3.02804385]\n",
      " [-1.11164264 -3.47928096]\n",
      " [-1.35462727 -3.21141219]\n",
      " [-1.32676162 -3.35789013]\n",
      " [-1.35516051 -3.44154826]\n",
      " [-1.17013298 -2.72629908]\n",
      " [-1.33695759 -3.30535014]\n",
      " [-1.14096256 -2.89812066]\n",
      " [-1.32215977 -4.06220863]\n",
      " [-0.94892492 -3.68758009]\n",
      " [-0.98542402 -3.13764767]\n",
      " [-0.97995207 -3.49708048]\n",
      " [-1.03412085 -2.85321011]\n",
      " [-1.06085004 -3.18266794]\n",
      " [-1.06674806 -3.6500854 ]\n",
      " [-1.21528053 -3.3808377 ]\n",
      " [-1.64665091 -4.19654957]\n",
      " [-1.31789849 -3.04988079]\n",
      " [-0.89674769 -2.59247486]\n",
      " [-1.0939636  -3.68495413]\n",
      " [-1.12594475 -3.12874678]\n",
      " [-1.32677097 -3.2461549 ]\n",
      " [-0.77546373 -3.19570199]\n",
      " [-1.2880783  -3.70001572]\n",
      " [-1.28457994 -3.62928777]\n",
      " [-0.79282952 -3.28612511]\n",
      " [-0.99162592 -3.42070405]\n",
      " [-1.18654478 -3.18242994]\n",
      " [-1.1183309  -3.46774825]\n",
      " [-1.07708416 -3.29994192]\n",
      " [-1.37828418 -4.29699234]\n",
      " [-1.16033947 -3.1948434 ]\n",
      " [-1.03551026 -3.20261742]\n",
      " [-1.45223636 -2.83141976]\n",
      " [-0.89000851 -3.61371171]\n",
      " [-1.38354069 -3.74867685]\n",
      " [-1.30474709 -3.44706035]\n",
      " [-0.97176266 -3.4185704 ]\n",
      " [-0.89284284 -3.64017186]\n",
      " [-1.06290349 -3.57634304]\n",
      " [-0.6241299  -3.73760023]\n",
      " [-1.15464753 -3.02804385]\n",
      " [-1.29040266 -3.61021905]\n",
      " [-1.18325706 -3.74966958]\n",
      " [-0.76347664 -3.56817471]\n",
      " [-0.74690109 -2.99880143]\n",
      " [-0.94656759 -3.47826606]\n",
      " [-1.31778196 -3.75833021]\n",
      " [-1.24030249 -3.31963484]]\n"
     ]
    }
   ],
   "source": [
    "#nothing to do here\n",
    "from sklearn.decomposition import PCA as sklearnPCA\n",
    "sklearn_pca = sklearnPCA(n_components=2)\n",
    "Y_sklearn = sklearn_pca.fit_transform(X_std)\n",
    "print(Y_sklearn)"
   ]
  },
  {
   "cell_type": "markdown",
   "metadata": {
    "pycharm": {
     "name": "#%% md\n"
    }
   },
   "source": [
    "* As a final step, we provide a visualization of the data in the new coordinate system, consisting of the first two principal components as axes. It should be clearly visible how the different classes are well seperated also in this smaller subspace. The self-implementation and sklearn method should lead to the same results (apart from potential flip of axes directions)."
   ]
  },
  {
   "cell_type": "code",
   "execution_count": 92,
   "metadata": {
    "pycharm": {
     "name": "#%%\n"
    }
   },
   "outputs": [
    {
     "data": {
      "text/plain": "<Figure size 432x288 with 1 Axes>",
      "image/png": "[encoded data removed]"
     },
     "metadata": {},
     "output_type": "display_data"
    },
    {
     "data": {
      "text/plain": "<Figure size 432x288 with 1 Axes>",
      "image/png": "[encoded data removed]"
     },
     "metadata": {},
     "output_type": "display_data"
    }
   ],
   "source": [
    "#nothing to do here\n",
    "X = df.iloc[:,0:4].values\n",
    "y = df.iloc[:,4].values\n",
    "classes = list(set(y))\n",
    "\n",
    "colors = sns.color_palette(n_colors=len(classes)).as_hex()\n",
    "\n",
    "for index,c in enumerate(classes):\n",
    "        plt.scatter(Y[y==c,0], Y[y==c,1], color=colors[index], label=c)\n",
    "plt.xlabel(\"PC1\")\n",
    "plt.ylabel(\"PC2\")\n",
    "plt.title(\"Downprojected data (self-implementation)\")\n",
    "plt.legend()\n",
    "plt.show()\n",
    "\n",
    "for index,c in enumerate(classes):\n",
    "        plt.scatter(Y_sklearn[y==c,0], Y_sklearn[y==c,1], color=colors[index], label=c)\n",
    "plt.xlabel(\"PC1\")\n",
    "plt.ylabel(\"PC2\")\n",
    "plt.title(\"Downprojected data (using sklearn)\")\n",
    "plt.legend()\n",
    "plt.show()"
   ]
  },
  {
   "cell_type": "code",
   "execution_count": 92,
   "outputs": [],
   "source": [],
   "metadata": {
    "collapsed": false,
    "pycharm": {
     "name": "#%%\n"
    }
   }
  },
  {
   "cell_type": "code",
   "execution_count": null,
   "outputs": [],
   "source": [],
   "metadata": {
    "collapsed": false,
    "pycharm": {
     "name": "#%%\n"
    }
   }
  }
 ],
 "metadata": {
  "kernelspec": {
   "display_name": "Python 3",
   "language": "python",
   "name": "python3"
  },
  "language_info": {
   "codemirror_mode": {
    "name": "ipython",
    "version": 3
   },
   "file_extension": ".py",
   "mimetype": "text/x-python",
   "name": "python",
   "nbconvert_exporter": "python",
   "pygments_lexer": "ipython3",
   "version": "3.8.8"
  }
 },
 "nbformat": 4,
 "nbformat_minor": 2
}