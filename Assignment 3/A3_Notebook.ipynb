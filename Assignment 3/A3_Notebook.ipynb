{
 "cells": [
  {
   "cell_type": "markdown",
   "metadata": {
    "pycharm": {
     "name": "#%% md\n"
    }
   },
   "source": [
    "<h1 style=\"color:rgb(0,120,170)\">Assignment 3: PCA and Kernel PCA</h1>"
   ]
  },
  {
   "cell_type": "markdown",
   "metadata": {
    "pycharm": {
     "name": "#%% md\n"
    }
   },
   "source": [
    "This material, no matter whether in printed or electronic form, may be used for personal and non-commercial educational use only. Any reproduction of this material, no matter whether as a whole or in parts, no matter whether in printed or in electronic form, requires explicit prior acceptance of the authors."
   ]
  },
  {
   "cell_type": "markdown",
   "metadata": {
    "pycharm": {
     "name": "#%% md\n"
    }
   },
   "source": [
    "<h2 style=\"color:rgb(0,120,170)\">Theoretical aspects concerning PCA</h2>"
   ]
  },
  {
   "cell_type": "markdown",
   "metadata": {
    "pycharm": {
     "name": "#%% md\n"
    }
   },
   "source": [
    "Our aim is to discuss a certain aspect of the mathematical derivation of PCA, that has not been adressed in full detail in the lectures. We use the same notation as in the lecture, i.e. we are given a data matrix $\\mathbf{X}= ( \\mathbf{x}_1,...,\\mathbf{x}_n )^\\top$, where each $\\mathbf{x}_i \\in \\mathbb{R}^m$ for $1\\le i \\le n$. \n",
    "\n",
    "A main reason, why PCA works very well, is the fact that the covariance matrix, defined as $\\mathbf{C}=\\frac 1n \\mathbf{X}^T\\mathbf{X}$, or equivalently, $c_{st}=\\frac1n \\sum_{i=1}^n x_{is} x_{it}$, is positive semi-definite. \n",
    "* Show this fact by proving $\\left\\langle\\mathbf{C}\\mathbf{a},\\mathbf{a}  \\right\\rangle= \\sum_{s,t=1}^m a_s a_t c_{st} \\geq 0$ for any $\\mathbf{a} \\in \\mathbb{R}^m$. \n",
    "* Moreover, show that positive semi-definiteness of $\\mathbf{C}$ implies that all eigenvalues are non-negative. \n",
    "* Why is this an important fact in PCA? "
   ]
  },
  {
   "cell_type": "markdown",
   "metadata": {
    "pycharm": {
     "name": "#%% md\n"
    }
   },
   "source": [
    "<h3 style=\"color:rgb(210,90,80)\">Exercise 1 (20 points):</h3>\n",
    "\n",
    "########## YOUR SOLUTION HERE ##########"
   ]
  },
  {
   "cell_type": "markdown",
   "metadata": {
    "pycharm": {
     "name": "#%% md\n"
    }
   },
   "source": [
    "<h2 style=\"color:rgb(0,120,170)\">PCA applied to real world data set</h2>"
   ]
  },
  {
   "cell_type": "markdown",
   "metadata": {
    "pycharm": {
     "name": "#%% md\n"
    }
   },
   "source": [
    "We use the provided data set faces94.csv which is essentially based\n",
    "on the pictures from the collection of Facial Images 1. This data set consists of $45 \\times 50$\n",
    "gray scale pixel images.\n",
    "Let us first read in the data and plot the first image as an example.\n",
    "This exercise should give you a feeling of what it really means to preserve variance."
   ]
  },
  {
   "cell_type": "code",
   "execution_count": 2,
   "metadata": {
    "pycharm": {
     "name": "#%%\n"
    }
   },
   "outputs": [],
   "source": [
    "#read data. Nothing to do here\n",
    "import numpy as np\n",
    "from sklearn.decomposition import PCA, KernelPCA\n",
    "import matplotlib.pyplot as plt\n",
    "from matplotlib import cm\n",
    "%matplotlib inline \n",
    "\n",
    "# import data from csv file,\n",
    "data = np.genfromtxt('faces94.csv', delimiter=',')"
   ]
  },
  {
   "cell_type": "code",
   "execution_count": 5,
   "metadata": {
    "pycharm": {
     "name": "#%%\n"
    }
   },
   "outputs": [
    {
     "data": {
      "text/plain": "<Figure size 432x288 with 1 Axes>",
      "image/png": "[encoded data removed]"
     },
     "metadata": {
      "needs_background": "light"
     },
     "output_type": "display_data"
    }
   ],
   "source": [
    "#plot first image as an example. Nothing to do here\n",
    "def plotImg(x):\n",
    "    fig, ax = plt.subplots()\n",
    "    ax.pcolor(x.reshape(45, 50).T, cmap=cm.gray)\n",
    "    ax.set_ylim([45, 0])\n",
    "    ax.axis(\"off\")\n",
    "    fig.tight_layout()\n",
    "    \n",
    "# plot first img\n",
    "plotImg(data[0, :])"
   ]
  },
  {
   "cell_type": "markdown",
   "metadata": {
    "pycharm": {
     "name": "#%% md\n"
    }
   },
   "source": [
    "<h3 style=\"color:rgb(210,90,80)\">Exercise 2 (10 points):</h3>\n",
    "\n",
    "We next use PCA for data-compression. Downproject the data using enough PCs to\n",
    "explain $50 \\% $, $75 \\% $ and $99 \\% $ of the variance. To do this use the sklearn-package. Print the number of principal components needed and also the explained variance for each of the tasks. "
   ]
  },
  {
   "cell_type": "code",
   "execution_count": null,
   "metadata": {
    "pycharm": {
     "name": "#%%\n"
    }
   },
   "outputs": [],
   "source": [
    "########## YOUR SOLUTION HERE ##########"
   ]
  },
  {
   "cell_type": "markdown",
   "metadata": {
    "pycharm": {
     "name": "#%% md\n"
    }
   },
   "source": [
    "<h3 style=\"color:rgb(0,120,170)\">Exercise 3 (10 points):</h3>\n",
    "\n",
    "You have essentially compressed vectors of dimension $d = 2250$ into vectors of much smaller dimension. Implement a function, that decompresses the data again, i.e. reconstruct the $2250$ dimensional data points, given the lower-dimensional representation. Print the dimension of the back-transformed data and the back-transformed data itself to check, if your result is indeed correct. "
   ]
  },
  {
   "cell_type": "code",
   "execution_count": null,
   "metadata": {
    "pycharm": {
     "name": "#%%\n"
    }
   },
   "outputs": [],
   "source": [
    "########## YOUR SOLUTION HERE ##########"
   ]
  },
  {
   "cell_type": "markdown",
   "metadata": {
    "pycharm": {
     "name": "#%% md\n"
    }
   },
   "source": [
    "<h3 style=\"color:rgb(210,90,80)\">Exercise 4 (15 points):</h3>\n",
    "\n",
    "Plot a few of the images and their reconstructions with $50 \\% $, $75 \\% $ and $99 \\% $ of the variance."
   ]
  },
  {
   "cell_type": "code",
   "execution_count": null,
   "metadata": {
    "pycharm": {
     "name": "#%%\n"
    }
   },
   "outputs": [],
   "source": [
    "########## YOUR SOLUTION HERE ##########"
   ]
  },
  {
   "cell_type": "markdown",
   "metadata": {
    "pycharm": {
     "name": "#%% md\n"
    }
   },
   "source": [
    "<h3 style=\"color:rgb(210,90,80)\">Exercise 5 (5 points):</h3>\n",
    "\n",
    "Comment on your observations. What type of information is preserved using the 3 different compression rates, what is lost?\n",
    "\n",
    "########## YOUR SOLUTION HERE ##########"
   ]
  },
  {
   "cell_type": "markdown",
   "metadata": {
    "pycharm": {
     "name": "#%% md\n"
    }
   },
   "source": [
    "<h2 style=\"color:rgb(0,120,170)\">PCA vs. Kernel PCA</h2>"
   ]
  },
  {
   "cell_type": "markdown",
   "metadata": {
    "pycharm": {
     "name": "#%% md\n"
    }
   },
   "source": [
    "Consider the two-dimensional data sets pca3.csv and pca4.csv\n",
    "(the latter data set has as a third column as label, which should be used for coloring\n",
    "the plots). First let us read the data, and for pca4 we additionally separate label from date:"
   ]
  },
  {
   "cell_type": "code",
   "execution_count": null,
   "metadata": {
    "pycharm": {
     "name": "#%%\n"
    }
   },
   "outputs": [],
   "source": [
    "#Read data. Nothing to do here!\n",
    "data3 = np.genfromtxt('pca3.csv', delimiter = ',', skip_header = 0) \n",
    "data4 = np.genfromtxt('pca4.csv', delimiter = ',', skip_header = 0)"
   ]
  },
  {
   "cell_type": "markdown",
   "metadata": {
    "pycharm": {
     "name": "#%% md\n"
    }
   },
   "source": [
    "<h3 style=\"color:rgb(0,120,170)\">Exercise 6 (10 Points):</h3>\n",
    "\n",
    "* Perform PCA for data3 and data4, visualize the principal components together with the data and\n",
    "determine the proportion of variance for each of the components."
   ]
  },
  {
   "cell_type": "code",
   "execution_count": null,
   "metadata": {
    "pycharm": {
     "name": "#%%\n"
    }
   },
   "outputs": [],
   "source": [
    "########## YOUR SOLUTION HERE ##########"
   ]
  },
  {
   "cell_type": "markdown",
   "metadata": {
    "pycharm": {
     "name": "#%% md\n"
    }
   },
   "source": [
    "<h3 style=\"color:rgb(0,120,170)\">Exercise 7 (20 points):</h3>\n",
    "\n",
    "* Perform Kernel PCA on both datasets. Try polynomial and RBF-kernels. For polynomial kernel use at least the parameters $\\gamma=2$ and degree $3$, for RBF $\\gamma=0.25$. You are of course allowed (and encourgaged) to try more different parameters and also different kernels to get a better feeling.\n",
    "\n",
    "* Also visualize the projected data together with the original ones. \n",
    "\n",
    "* Finally, visualize the projection onto the first principal component in the RBF-kernel plots for data4 (can also be done together in one plot). This should also convince you about the fact that the first PC already contains a huge part of the information of the data, e.g. the data can already be well separated by the first PC. "
   ]
  },
  {
   "cell_type": "code",
   "execution_count": null,
   "metadata": {
    "scrolled": true,
    "pycharm": {
     "name": "#%%\n"
    }
   },
   "outputs": [],
   "source": [
    "########## YOUR SOLUTION HERE ##########"
   ]
  },
  {
   "cell_type": "markdown",
   "metadata": {
    "pycharm": {
     "name": "#%% md\n"
    }
   },
   "source": [
    "<h3 style=\"color:rgb(0,120,170)\">Exercise 8 (10 points):</h3>\n",
    "\n",
    "Can you observe advantages/disadvantages of Kernel PCA compared to PCA without\n",
    "using a kernel? For which kind of data do you observe them?\n"
   ]
  },
  {
   "cell_type": "markdown",
   "metadata": {
    "pycharm": {
     "name": "#%% md\n"
    }
   },
   "source": [
    "########## YOUR SOLUTION HERE ##########"
   ]
  },
  {
   "cell_type": "code",
   "execution_count": null,
   "metadata": {
    "pycharm": {
     "name": "#%%\n"
    }
   },
   "outputs": [],
   "source": []
  }
 ],
 "metadata": {
  "kernelspec": {
   "display_name": "Python 3",
   "language": "python",
   "name": "python3"
  },
  "language_info": {
   "codemirror_mode": {
    "name": "ipython",
    "version": 3
   },
   "file_extension": ".py",
   "mimetype": "text/x-python",
   "name": "python",
   "nbconvert_exporter": "python",
   "pygments_lexer": "ipython3",
   "version": "3.8.11"
  }
 },
 "nbformat": 4,
 "nbformat_minor": 2
}